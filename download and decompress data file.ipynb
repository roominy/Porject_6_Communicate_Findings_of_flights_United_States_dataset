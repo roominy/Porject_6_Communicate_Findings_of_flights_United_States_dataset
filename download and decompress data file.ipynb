{
 "cells": [
  {
   "cell_type": "code",
   "execution_count": 1,
   "metadata": {},
   "outputs": [],
   "source": [
    "import os, sys\n",
    "import requests\n",
    "import bz2"
   ]
  },
  {
   "cell_type": "code",
   "execution_count": 2,
   "metadata": {},
   "outputs": [
    {
     "name": "stdout",
     "output_type": "stream",
     "text": [
      "data for 2008\n",
      "\t-downloading file for 2008 ....\n",
      "\t-decompress and save file for 2008....\n"
     ]
    }
   ],
   "source": [
    "\n",
    "\n",
    "# set year & project foldername\n",
    "year = 2008\n",
    "project_folder_name = \"data files\"\n",
    "print(\"data for {}\".format(year))\n",
    "# set the data url for year\n",
    "url = 'http://stat-computing.org/dataexpo/2009/{}.csv.bz2'.format(year)\n",
    "# set path where compressed file (bz2) for year will be saved\n",
    "compressed_file = os.path.join(os.path.join(os.getcwd(), project_folder_name ),'{}.csv.bz2'.format(year))\n",
    "# set path where data file (csv) for year will be saved\n",
    "data_file = os.path.join(os.path.join(os.getcwd(), project_folder_name ),'{}.csv'.format(year))\n",
    "#check if the compressed file  already exists\n",
    "if not os.path.exists(compressed_file):\n",
    "    #download compressed file from url\n",
    "    print(\"\\t-downloading file for {} ....\".format(year))\n",
    "    open(compressed_file, 'wb').write(requests.get(url).content)\n",
    "#check if the data file (csv)  already exists   \n",
    "if not os.path.exists(data_file):    \n",
    "    # decompress file download and save the as csv then append the to csv_files list to be combined\n",
    "    with open(data_file, 'wb') as csv_file, bz2.BZ2File(compressed_file, 'rb') as file:\n",
    "        print(\"\\t-decompress and save file for {}....\".format(year))\n",
    "        for data in iter(lambda : file.read(100 * 1024), b''):\n",
    "            csv_file.write(data)\n",
    "\n",
    "\n",
    "        "
   ]
  },
  {
   "cell_type": "code",
   "execution_count": 3,
   "metadata": {},
   "outputs": [],
   "source": [
    "# delete compressed file\n",
    "if os.path.exists(compressed_file):\n",
    "    os.remove(compressed_file)"
   ]
  },
  {
   "cell_type": "code",
   "execution_count": 4,
   "metadata": {},
   "outputs": [
    {
     "name": "stdout",
     "output_type": "stream",
     "text": [
      "\t-downloading file for  ....\n"
     ]
    }
   ],
   "source": [
    "url = 'http://stat-computing.org/dataexpo/2009/airports.csv'\n",
    "\n",
    "# set path where airports date file (csv) will be saved\n",
    "airports_file = os.path.join(os.path.join(os.getcwd(), project_folder_name ),'airports.csv')\n",
    "if not os.path.exists(airports_file):\n",
    "    #download airports date file from url\n",
    "    print(\"\\t-downloading file for  ....\")\n",
    "    open(airports_file, 'wb').write(requests.get(url).content)"
   ]
  },
  {
   "cell_type": "code",
   "execution_count": 5,
   "metadata": {},
   "outputs": [
    {
     "name": "stdout",
     "output_type": "stream",
     "text": [
      "\t-downloading file for  ....\n"
     ]
    }
   ],
   "source": [
    "url = 'http://stat-computing.org/dataexpo/2009/carriers.csv'\n",
    "\n",
    "# set path where carriers date file (csv) will be saved\n",
    "carriers_file = os.path.join(os.path.join(os.getcwd(), project_folder_name ),'carriers.csv')\n",
    "if not os.path.exists(carriers_file):\n",
    "    #download carriers date file from url\n",
    "    print(\"\\t-downloading file for  ....\")\n",
    "    open(carriers_file, 'wb').write(requests.get(url).content)"
   ]
  },
  {
   "cell_type": "code",
   "execution_count": null,
   "metadata": {},
   "outputs": [],
   "source": []
  }
 ],
 "metadata": {
  "kernelspec": {
   "display_name": "Python 3",
   "language": "python",
   "name": "python3"
  },
  "language_info": {
   "codemirror_mode": {
    "name": "ipython",
    "version": 3
   },
   "file_extension": ".py",
   "mimetype": "text/x-python",
   "name": "python",
   "nbconvert_exporter": "python",
   "pygments_lexer": "ipython3",
   "version": "3.7.1"
  }
 },
 "nbformat": 4,
 "nbformat_minor": 2
}
